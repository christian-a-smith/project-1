{
 "cells": [
  {
   "cell_type": "code",
   "execution_count": 1,
   "id": "e9877316",
   "metadata": {},
   "outputs": [],
   "source": [
    "import matplotlib.pyplot as plt\n",
    "import pandas as pd\n",
    "import scipy.stats as st\n",
    "import numpy as np\n",
    "from pathlib import Path"
   ]
  },
  {
   "cell_type": "code",
   "execution_count": 2,
   "id": "c8f6e554",
   "metadata": {},
   "outputs": [],
   "source": [
    "# add csv file\n",
    "data_salaries_csv = Path(\"../Resources/salaries.csv\")"
   ]
  },
  {
   "cell_type": "code",
   "execution_count": 3,
   "id": "05b38500",
   "metadata": {},
   "outputs": [
    {
     "data": {
      "text/plain": [
       "(7919, 11)"
      ]
     },
     "execution_count": 3,
     "metadata": {},
     "output_type": "execute_result"
    }
   ],
   "source": [
    "# read full dataframe\n",
    "data_salaries_df = pd.read_csv(data_salaries_csv)\n",
    "data_salaries_df.shape"
   ]
  },
  {
   "cell_type": "code",
   "execution_count": 4,
   "id": "6162245d",
   "metadata": {},
   "outputs": [
    {
     "data": {
      "text/plain": [
       "(7919, 11)"
      ]
     },
     "execution_count": 4,
     "metadata": {},
     "output_type": "execute_result"
    }
   ],
   "source": [
    "# drop null values (if any)\n",
    "data_salaries = data_salaries_df.dropna()\n",
    "data_salaries_df.shape"
   ]
  },
  {
   "cell_type": "code",
   "execution_count": 5,
   "id": "e5bf46d4",
   "metadata": {},
   "outputs": [],
   "source": [
    "# filter by employment type (get only full-time)\n",
    "data_salaries_df[\"employment_type\"].value_counts()\n",
    "data_salaries_df = data_salaries_df.loc[(data_salaries_df[\"employment_type\"]==\"FT\")]"
   ]
  },
  {
   "cell_type": "code",
   "execution_count": 6,
   "id": "2fe5d0e1",
   "metadata": {},
   "outputs": [
    {
     "data": {
      "text/html": [
       "<div>\n",
       "<style scoped>\n",
       "    .dataframe tbody tr th:only-of-type {\n",
       "        vertical-align: middle;\n",
       "    }\n",
       "\n",
       "    .dataframe tbody tr th {\n",
       "        vertical-align: top;\n",
       "    }\n",
       "\n",
       "    .dataframe thead th {\n",
       "        text-align: right;\n",
       "    }\n",
       "</style>\n",
       "<table border=\"1\" class=\"dataframe\">\n",
       "  <thead>\n",
       "    <tr style=\"text-align: right;\">\n",
       "      <th></th>\n",
       "      <th>work_year</th>\n",
       "      <th>experience_level</th>\n",
       "      <th>employment_type</th>\n",
       "      <th>job_title</th>\n",
       "      <th>salary</th>\n",
       "      <th>remote_ratio</th>\n",
       "      <th>company_size</th>\n",
       "    </tr>\n",
       "  </thead>\n",
       "  <tbody>\n",
       "    <tr>\n",
       "      <th>2</th>\n",
       "      <td>2023</td>\n",
       "      <td>MI</td>\n",
       "      <td>FT</td>\n",
       "      <td>Data Scientist</td>\n",
       "      <td>150000</td>\n",
       "      <td>0</td>\n",
       "      <td>M</td>\n",
       "    </tr>\n",
       "    <tr>\n",
       "      <th>3</th>\n",
       "      <td>2023</td>\n",
       "      <td>MI</td>\n",
       "      <td>FT</td>\n",
       "      <td>Data Scientist</td>\n",
       "      <td>125000</td>\n",
       "      <td>0</td>\n",
       "      <td>M</td>\n",
       "    </tr>\n",
       "    <tr>\n",
       "      <th>4</th>\n",
       "      <td>2023</td>\n",
       "      <td>SE</td>\n",
       "      <td>FT</td>\n",
       "      <td>Data Scientist</td>\n",
       "      <td>150000</td>\n",
       "      <td>100</td>\n",
       "      <td>M</td>\n",
       "    </tr>\n",
       "    <tr>\n",
       "      <th>5</th>\n",
       "      <td>2023</td>\n",
       "      <td>SE</td>\n",
       "      <td>FT</td>\n",
       "      <td>Data Scientist</td>\n",
       "      <td>130000</td>\n",
       "      <td>100</td>\n",
       "      <td>M</td>\n",
       "    </tr>\n",
       "    <tr>\n",
       "      <th>8</th>\n",
       "      <td>2023</td>\n",
       "      <td>SE</td>\n",
       "      <td>FT</td>\n",
       "      <td>Data Engineer</td>\n",
       "      <td>190000</td>\n",
       "      <td>0</td>\n",
       "      <td>M</td>\n",
       "    </tr>\n",
       "  </tbody>\n",
       "</table>\n",
       "</div>"
      ],
      "text/plain": [
       "   work_year experience_level employment_type       job_title  salary  \\\n",
       "2       2023               MI              FT  Data Scientist  150000   \n",
       "3       2023               MI              FT  Data Scientist  125000   \n",
       "4       2023               SE              FT  Data Scientist  150000   \n",
       "5       2023               SE              FT  Data Scientist  130000   \n",
       "8       2023               SE              FT   Data Engineer  190000   \n",
       "\n",
       "   remote_ratio company_size  \n",
       "2             0            M  \n",
       "3             0            M  \n",
       "4           100            M  \n",
       "5           100            M  \n",
       "8             0            M  "
      ]
     },
     "execution_count": 6,
     "metadata": {},
     "output_type": "execute_result"
    }
   ],
   "source": [
    "# filter by country (get only US & drop redundant columns)\n",
    "data_salaries_df[\"company_location\"].value_counts()\n",
    "data_salaries_df = data_salaries_df.loc[(data_salaries_df[\"company_location\"]==\"US\")]\n",
    "data_salaries_df = data_salaries_df.drop(columns=[\"salary_currency\", \"salary_in_usd\", \n",
    "                                                  \"employee_residence\", \"company_location\"])"
   ]
  },
  {
   "cell_type": "code",
   "execution_count": 10,
   "id": "a404281d",
   "metadata": {},
   "outputs": [],
   "source": [
    "# reset index and export as csv\n",
    "data_salaries_df.to_csv(\"../Resources/data_salaries_cleaned.csv\", index=False)"
   ]
  }
 ],
 "metadata": {
  "kernelspec": {
   "display_name": "Python 3 (ipykernel)",
   "language": "python",
   "name": "python3"
  },
  "language_info": {
   "codemirror_mode": {
    "name": "ipython",
    "version": 3
   },
   "file_extension": ".py",
   "mimetype": "text/x-python",
   "name": "python",
   "nbconvert_exporter": "python",
   "pygments_lexer": "ipython3",
   "version": "3.11.4"
  }
 },
 "nbformat": 4,
 "nbformat_minor": 5
}
