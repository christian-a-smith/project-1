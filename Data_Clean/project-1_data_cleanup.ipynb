{
 "cells": [
  {
   "cell_type": "code",
   "execution_count": 16,
   "id": "e9877316",
   "metadata": {},
   "outputs": [],
   "source": [
    "import matplotlib.pyplot as plt\n",
    "import pandas as pd\n",
    "import scipy.stats as st\n",
    "import numpy as np\n",
    "from pathlib import Path"
   ]
  },
  {
   "cell_type": "code",
   "execution_count": 17,
   "id": "c8f6e554",
   "metadata": {},
   "outputs": [],
   "source": [
    "# add csv file\n",
    "data_salaries_csv = Path(\"Resources/salaries.csv\")"
   ]
  },
  {
   "cell_type": "code",
   "execution_count": 18,
   "id": "05b38500",
   "metadata": {},
   "outputs": [
    {
     "data": {
      "text/plain": [
       "(7919, 11)"
      ]
     },
     "execution_count": 18,
     "metadata": {},
     "output_type": "execute_result"
    }
   ],
   "source": [
    "# read full dataframe\n",
    "data_salaries_df = pd.read_csv(data_salaries_csv)\n",
    "data_salaries_df.shape"
   ]
  },
  {
   "cell_type": "code",
   "execution_count": 19,
   "id": "6162245d",
   "metadata": {},
   "outputs": [
    {
     "data": {
      "text/plain": [
       "(7919, 11)"
      ]
     },
     "execution_count": 19,
     "metadata": {},
     "output_type": "execute_result"
    }
   ],
   "source": [
    "# drop null values (if any)\n",
    "data_salaries = data_salaries_df.dropna()\n",
    "data_salaries_df.shape"
   ]
  },
  {
   "cell_type": "code",
   "execution_count": 22,
   "id": "e5bf46d4",
   "metadata": {},
   "outputs": [
    {
     "data": {
      "text/plain": [
       "FT    7877\n",
       "Name: employment_type, dtype: int64"
      ]
     },
     "execution_count": 22,
     "metadata": {},
     "output_type": "execute_result"
    }
   ],
   "source": [
    "# filter by employment type (get only full-time)\n",
    "data_salaries_df[\"employment_type\"].value_counts()\n",
    "# data_salaries_df = data_salaries_df.loc[(data_salaries_df[\"employment_type\"]==\"FT\")]"
   ]
  },
  {
   "cell_type": "code",
   "execution_count": 21,
   "id": "2fe5d0e1",
   "metadata": {},
   "outputs": [
    {
     "data": {
      "text/plain": [
       "US    6748\n",
       "GB     395\n",
       "CA     177\n",
       "ES     106\n",
       "DE      70\n",
       "      ... \n",
       "AM       1\n",
       "QA       1\n",
       "HK       1\n",
       "ZA       1\n",
       "MT       1\n",
       "Name: company_location, Length: 70, dtype: int64"
      ]
     },
     "execution_count": 21,
     "metadata": {},
     "output_type": "execute_result"
    }
   ],
   "source": [
    "# filter by country (get only US & drop redundant columns)\n",
    "data_salaries_df[\"company_location\"].value_counts()\n",
    "# data_salaries_df = data_salaries_df.loc[(data_salaries_df[\"company_location\"]==\"US\")]\n",
    "# data_salaries_df = data_salaries_df.drop(columns=[\"salary_currency\", \"salary_in_usd\", \n",
    "#                                                   \"employee_residence\", \"company_location\"])\n",
    "# data_salaries_df.head()"
   ]
  },
  {
   "cell_type": "code",
   "execution_count": 8,
   "id": "22c0e2e7",
   "metadata": {},
   "outputs": [],
   "source": [
    "# filter by year\n",
    "data_salaries_2023_df = data_salaries_df.loc[(data_salaries_df[\"work_year\"]==2023)]\n",
    "data_salaries_2022_df = data_salaries_df.loc[(data_salaries_df[\"work_year\"]==2022)]\n",
    "data_salaries_2021_df = data_salaries_df.loc[(data_salaries_df[\"work_year\"]==2021)]\n",
    "data_salaries_2020_df = data_salaries_df.loc[(data_salaries_df[\"work_year\"]==2020)]"
   ]
  },
  {
   "cell_type": "code",
   "execution_count": 9,
   "id": "2b1a35d9",
   "metadata": {},
   "outputs": [],
   "source": [
    "# filter by experience level\n",
    "data_salaries_df[\"experience_level\"].value_counts()\n",
    "data_salaries_en_df = data_salaries_df.loc[(data_salaries_df[\"experience_level\"]==\"EN\")]\n",
    "data_salaries_mi_df = data_salaries_df.loc[(data_salaries_df[\"experience_level\"]==\"MI\")]\n",
    "data_salaries_se_df = data_salaries_df.loc[(data_salaries_df[\"experience_level\"]==\"SE\")]\n",
    "data_salaries_ex_df = data_salaries_df.loc[(data_salaries_df[\"experience_level\"]==\"EX\")]"
   ]
  },
  {
   "cell_type": "code",
   "execution_count": 10,
   "id": "d56e34e3",
   "metadata": {},
   "outputs": [],
   "source": [
    "# filter by job title\n",
    "data_salaries_df[\"job_title\"].value_counts()\n",
    "data_salaries_da_df = data_salaries_df.loc[(data_salaries_df[\"job_title\"]==\"Data Analyst\")]\n",
    "data_salaries_ds_df = data_salaries_df.loc[(data_salaries_df[\"job_title\"]==\"Data Scientist\")]\n",
    "data_salaries_de_df = data_salaries_df.loc[(data_salaries_df[\"job_title\"]==\"Data Engineer\")]\n",
    "data_salaries_mle_df = data_salaries_df.loc[(data_salaries_df[\"job_title\"]==\"Machine Learning Engineer\")]"
   ]
  },
  {
   "cell_type": "code",
   "execution_count": 11,
   "id": "742c29ea",
   "metadata": {},
   "outputs": [
    {
     "data": {
      "text/html": [
       "<div>\n",
       "<style scoped>\n",
       "    .dataframe tbody tr th:only-of-type {\n",
       "        vertical-align: middle;\n",
       "    }\n",
       "\n",
       "    .dataframe tbody tr th {\n",
       "        vertical-align: top;\n",
       "    }\n",
       "\n",
       "    .dataframe thead th {\n",
       "        text-align: right;\n",
       "    }\n",
       "</style>\n",
       "<table border=\"1\" class=\"dataframe\">\n",
       "  <thead>\n",
       "    <tr style=\"text-align: right;\">\n",
       "      <th></th>\n",
       "      <th>work_year</th>\n",
       "      <th>experience_level</th>\n",
       "      <th>employment_type</th>\n",
       "      <th>job_title</th>\n",
       "      <th>salary</th>\n",
       "      <th>remote_ratio</th>\n",
       "      <th>company_size</th>\n",
       "    </tr>\n",
       "  </thead>\n",
       "  <tbody>\n",
       "    <tr>\n",
       "      <th>101</th>\n",
       "      <td>2023</td>\n",
       "      <td>EN</td>\n",
       "      <td>FT</td>\n",
       "      <td>Data Analyst</td>\n",
       "      <td>80800</td>\n",
       "      <td>0</td>\n",
       "      <td>M</td>\n",
       "    </tr>\n",
       "    <tr>\n",
       "      <th>102</th>\n",
       "      <td>2023</td>\n",
       "      <td>EN</td>\n",
       "      <td>FT</td>\n",
       "      <td>Data Analyst</td>\n",
       "      <td>53800</td>\n",
       "      <td>0</td>\n",
       "      <td>M</td>\n",
       "    </tr>\n",
       "    <tr>\n",
       "      <th>1470</th>\n",
       "      <td>2023</td>\n",
       "      <td>EN</td>\n",
       "      <td>FT</td>\n",
       "      <td>Data Analyst</td>\n",
       "      <td>94600</td>\n",
       "      <td>0</td>\n",
       "      <td>M</td>\n",
       "    </tr>\n",
       "    <tr>\n",
       "      <th>1471</th>\n",
       "      <td>2023</td>\n",
       "      <td>EN</td>\n",
       "      <td>FT</td>\n",
       "      <td>Data Analyst</td>\n",
       "      <td>86000</td>\n",
       "      <td>0</td>\n",
       "      <td>M</td>\n",
       "    </tr>\n",
       "    <tr>\n",
       "      <th>1547</th>\n",
       "      <td>2023</td>\n",
       "      <td>EN</td>\n",
       "      <td>FT</td>\n",
       "      <td>Data Analyst</td>\n",
       "      <td>75000</td>\n",
       "      <td>0</td>\n",
       "      <td>M</td>\n",
       "    </tr>\n",
       "    <tr>\n",
       "      <th>...</th>\n",
       "      <td>...</td>\n",
       "      <td>...</td>\n",
       "      <td>...</td>\n",
       "      <td>...</td>\n",
       "      <td>...</td>\n",
       "      <td>...</td>\n",
       "      <td>...</td>\n",
       "    </tr>\n",
       "    <tr>\n",
       "      <th>7711</th>\n",
       "      <td>2021</td>\n",
       "      <td>EN</td>\n",
       "      <td>FT</td>\n",
       "      <td>Data Analyst</td>\n",
       "      <td>90000</td>\n",
       "      <td>100</td>\n",
       "      <td>S</td>\n",
       "    </tr>\n",
       "    <tr>\n",
       "      <th>7712</th>\n",
       "      <td>2021</td>\n",
       "      <td>EN</td>\n",
       "      <td>FT</td>\n",
       "      <td>Data Analyst</td>\n",
       "      <td>60000</td>\n",
       "      <td>100</td>\n",
       "      <td>S</td>\n",
       "    </tr>\n",
       "    <tr>\n",
       "      <th>7728</th>\n",
       "      <td>2021</td>\n",
       "      <td>EN</td>\n",
       "      <td>FT</td>\n",
       "      <td>Data Analyst</td>\n",
       "      <td>80000</td>\n",
       "      <td>100</td>\n",
       "      <td>M</td>\n",
       "    </tr>\n",
       "    <tr>\n",
       "      <th>7773</th>\n",
       "      <td>2020</td>\n",
       "      <td>EN</td>\n",
       "      <td>FT</td>\n",
       "      <td>Data Analyst</td>\n",
       "      <td>91000</td>\n",
       "      <td>100</td>\n",
       "      <td>L</td>\n",
       "    </tr>\n",
       "    <tr>\n",
       "      <th>7805</th>\n",
       "      <td>2020</td>\n",
       "      <td>EN</td>\n",
       "      <td>FT</td>\n",
       "      <td>Data Analyst</td>\n",
       "      <td>72000</td>\n",
       "      <td>100</td>\n",
       "      <td>L</td>\n",
       "    </tr>\n",
       "  </tbody>\n",
       "</table>\n",
       "<p>70 rows × 7 columns</p>\n",
       "</div>"
      ],
      "text/plain": [
       "      work_year experience_level employment_type     job_title  salary  \\\n",
       "101        2023               EN              FT  Data Analyst   80800   \n",
       "102        2023               EN              FT  Data Analyst   53800   \n",
       "1470       2023               EN              FT  Data Analyst   94600   \n",
       "1471       2023               EN              FT  Data Analyst   86000   \n",
       "1547       2023               EN              FT  Data Analyst   75000   \n",
       "...         ...              ...             ...           ...     ...   \n",
       "7711       2021               EN              FT  Data Analyst   90000   \n",
       "7712       2021               EN              FT  Data Analyst   60000   \n",
       "7728       2021               EN              FT  Data Analyst   80000   \n",
       "7773       2020               EN              FT  Data Analyst   91000   \n",
       "7805       2020               EN              FT  Data Analyst   72000   \n",
       "\n",
       "      remote_ratio company_size  \n",
       "101              0            M  \n",
       "102              0            M  \n",
       "1470             0            M  \n",
       "1471             0            M  \n",
       "1547             0            M  \n",
       "...            ...          ...  \n",
       "7711           100            S  \n",
       "7712           100            S  \n",
       "7728           100            M  \n",
       "7773           100            L  \n",
       "7805           100            L  \n",
       "\n",
       "[70 rows x 7 columns]"
      ]
     },
     "execution_count": 11,
     "metadata": {},
     "output_type": "execute_result"
    }
   ],
   "source": [
    "# filter to get only entry level data analysts\n",
    "data_salaries_da_en_df = data_salaries_da_df.loc[(data_salaries_da_df[\"experience_level\"]==\"EN\")]\n",
    "data_salaries_da_en_df"
   ]
  },
  {
   "cell_type": "code",
   "execution_count": 24,
   "id": "d765385c",
   "metadata": {},
   "outputs": [
    {
     "data": {
      "text/plain": [
       "150000"
      ]
     },
     "execution_count": 24,
     "metadata": {},
     "output_type": "execute_result"
    }
   ],
   "source": [
    "# find average entry level data analyst salary\n",
    "data_salaries_da_en_df[\"salary\"].max()\n",
    "# round(data_salaries_da_en_df[\"salary\"].mean(),2)"
   ]
  },
  {
   "cell_type": "code",
   "execution_count": 13,
   "id": "5a67420f",
   "metadata": {},
   "outputs": [
    {
     "data": {
      "text/plain": [
       "company_size\n",
       "L    73300.000000\n",
       "M    77321.071429\n",
       "S    58750.000000\n",
       "Name: salary, dtype: float64"
      ]
     },
     "execution_count": 13,
     "metadata": {},
     "output_type": "execute_result"
    }
   ],
   "source": [
    "# find average entry level data analyst salary by company_size\n",
    "data_salaries_da_en_df.groupby([\"company_size\"])[\"salary\"].mean()"
   ]
  },
  {
   "cell_type": "code",
   "execution_count": 14,
   "id": "1b60487c",
   "metadata": {},
   "outputs": [
    {
     "data": {
      "text/plain": [
       "0      4156\n",
       "100    2549\n",
       "50       43\n",
       "Name: remote_ratio, dtype: int64"
      ]
     },
     "execution_count": 14,
     "metadata": {},
     "output_type": "execute_result"
    }
   ],
   "source": [
    "# filter by remote_ratio\n",
    "data_salaries_df[\"remote_ratio\"].value_counts()"
   ]
  }
 ],
 "metadata": {
  "kernelspec": {
   "display_name": "Python 3 (ipykernel)",
   "language": "python",
   "name": "python3"
  },
  "language_info": {
   "codemirror_mode": {
    "name": "ipython",
    "version": 3
   },
   "file_extension": ".py",
   "mimetype": "text/x-python",
   "name": "python",
   "nbconvert_exporter": "python",
   "pygments_lexer": "ipython3",
   "version": "3.11.4"
  }
 },
 "nbformat": 4,
 "nbformat_minor": 5
}
