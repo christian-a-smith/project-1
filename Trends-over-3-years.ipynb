{
 "cells": [
  {
   "cell_type": "code",
   "execution_count": 1,
   "id": "84701d40",
   "metadata": {},
   "outputs": [
    {
     "data": {
      "text/html": [
       "<div>\n",
       "<style scoped>\n",
       "    .dataframe tbody tr th:only-of-type {\n",
       "        vertical-align: middle;\n",
       "    }\n",
       "\n",
       "    .dataframe tbody tr th {\n",
       "        vertical-align: top;\n",
       "    }\n",
       "\n",
       "    .dataframe thead th {\n",
       "        text-align: right;\n",
       "    }\n",
       "</style>\n",
       "<table border=\"1\" class=\"dataframe\">\n",
       "  <thead>\n",
       "    <tr style=\"text-align: right;\">\n",
       "      <th></th>\n",
       "      <th>Unnamed: 0</th>\n",
       "      <th>work_year</th>\n",
       "      <th>experience_level</th>\n",
       "      <th>employment_type</th>\n",
       "      <th>job_title</th>\n",
       "      <th>salary</th>\n",
       "      <th>remote_ratio</th>\n",
       "      <th>company_size</th>\n",
       "    </tr>\n",
       "  </thead>\n",
       "  <tbody>\n",
       "    <tr>\n",
       "      <th>0</th>\n",
       "      <td>0</td>\n",
       "      <td>2023</td>\n",
       "      <td>MI</td>\n",
       "      <td>FT</td>\n",
       "      <td>Analytics Engineer</td>\n",
       "      <td>300000</td>\n",
       "      <td>0</td>\n",
       "      <td>M</td>\n",
       "    </tr>\n",
       "    <tr>\n",
       "      <th>1</th>\n",
       "      <td>1</td>\n",
       "      <td>2023</td>\n",
       "      <td>MI</td>\n",
       "      <td>FT</td>\n",
       "      <td>Analytics Engineer</td>\n",
       "      <td>60000</td>\n",
       "      <td>0</td>\n",
       "      <td>M</td>\n",
       "    </tr>\n",
       "    <tr>\n",
       "      <th>2</th>\n",
       "      <td>2</td>\n",
       "      <td>2023</td>\n",
       "      <td>MI</td>\n",
       "      <td>FT</td>\n",
       "      <td>Data Scientist</td>\n",
       "      <td>150000</td>\n",
       "      <td>0</td>\n",
       "      <td>M</td>\n",
       "    </tr>\n",
       "    <tr>\n",
       "      <th>3</th>\n",
       "      <td>3</td>\n",
       "      <td>2023</td>\n",
       "      <td>MI</td>\n",
       "      <td>FT</td>\n",
       "      <td>Data Scientist</td>\n",
       "      <td>125000</td>\n",
       "      <td>0</td>\n",
       "      <td>M</td>\n",
       "    </tr>\n",
       "    <tr>\n",
       "      <th>4</th>\n",
       "      <td>4</td>\n",
       "      <td>2023</td>\n",
       "      <td>SE</td>\n",
       "      <td>FT</td>\n",
       "      <td>Data Scientist</td>\n",
       "      <td>150000</td>\n",
       "      <td>100</td>\n",
       "      <td>M</td>\n",
       "    </tr>\n",
       "    <tr>\n",
       "      <th>...</th>\n",
       "      <td>...</td>\n",
       "      <td>...</td>\n",
       "      <td>...</td>\n",
       "      <td>...</td>\n",
       "      <td>...</td>\n",
       "      <td>...</td>\n",
       "      <td>...</td>\n",
       "      <td>...</td>\n",
       "    </tr>\n",
       "    <tr>\n",
       "      <th>7872</th>\n",
       "      <td>7913</td>\n",
       "      <td>2021</td>\n",
       "      <td>SE</td>\n",
       "      <td>FT</td>\n",
       "      <td>Data Specialist</td>\n",
       "      <td>165000</td>\n",
       "      <td>100</td>\n",
       "      <td>L</td>\n",
       "    </tr>\n",
       "    <tr>\n",
       "      <th>7873</th>\n",
       "      <td>7914</td>\n",
       "      <td>2020</td>\n",
       "      <td>SE</td>\n",
       "      <td>FT</td>\n",
       "      <td>Data Scientist</td>\n",
       "      <td>412000</td>\n",
       "      <td>100</td>\n",
       "      <td>L</td>\n",
       "    </tr>\n",
       "    <tr>\n",
       "      <th>7874</th>\n",
       "      <td>7915</td>\n",
       "      <td>2021</td>\n",
       "      <td>MI</td>\n",
       "      <td>FT</td>\n",
       "      <td>Principal Data Scientist</td>\n",
       "      <td>151000</td>\n",
       "      <td>100</td>\n",
       "      <td>L</td>\n",
       "    </tr>\n",
       "    <tr>\n",
       "      <th>7875</th>\n",
       "      <td>7916</td>\n",
       "      <td>2020</td>\n",
       "      <td>EN</td>\n",
       "      <td>FT</td>\n",
       "      <td>Data Scientist</td>\n",
       "      <td>105000</td>\n",
       "      <td>100</td>\n",
       "      <td>S</td>\n",
       "    </tr>\n",
       "    <tr>\n",
       "      <th>7876</th>\n",
       "      <td>7918</td>\n",
       "      <td>2021</td>\n",
       "      <td>SE</td>\n",
       "      <td>FT</td>\n",
       "      <td>Data Science Manager</td>\n",
       "      <td>7000000</td>\n",
       "      <td>50</td>\n",
       "      <td>L</td>\n",
       "    </tr>\n",
       "  </tbody>\n",
       "</table>\n",
       "<p>7877 rows × 8 columns</p>\n",
       "</div>"
      ],
      "text/plain": [
       "      Unnamed: 0  work_year experience_level employment_type  \\\n",
       "0              0       2023               MI              FT   \n",
       "1              1       2023               MI              FT   \n",
       "2              2       2023               MI              FT   \n",
       "3              3       2023               MI              FT   \n",
       "4              4       2023               SE              FT   \n",
       "...          ...        ...              ...             ...   \n",
       "7872        7913       2021               SE              FT   \n",
       "7873        7914       2020               SE              FT   \n",
       "7874        7915       2021               MI              FT   \n",
       "7875        7916       2020               EN              FT   \n",
       "7876        7918       2021               SE              FT   \n",
       "\n",
       "                     job_title   salary  remote_ratio company_size  \n",
       "0           Analytics Engineer   300000             0            M  \n",
       "1           Analytics Engineer    60000             0            M  \n",
       "2               Data Scientist   150000             0            M  \n",
       "3               Data Scientist   125000             0            M  \n",
       "4               Data Scientist   150000           100            M  \n",
       "...                        ...      ...           ...          ...  \n",
       "7872           Data Specialist   165000           100            L  \n",
       "7873            Data Scientist   412000           100            L  \n",
       "7874  Principal Data Scientist   151000           100            L  \n",
       "7875            Data Scientist   105000           100            S  \n",
       "7876      Data Science Manager  7000000            50            L  \n",
       "\n",
       "[7877 rows x 8 columns]"
      ]
     },
     "execution_count": 1,
     "metadata": {},
     "output_type": "execute_result"
    }
   ],
   "source": [
    "#import dependencies and file\n",
    "import pandas as pd\n",
    "\n",
    "salary_df = pd.read_csv(\"Resources/data_salaries_cleaned.csv\")\n",
    "salary_df"
   ]
  },
  {
   "cell_type": "code",
   "execution_count": 2,
   "id": "cf565c51",
   "metadata": {},
   "outputs": [
    {
     "data": {
      "text/plain": [
       "job_title\n",
       "Data Engineer                         88\n",
       "Data Analyst                          87\n",
       "Data Scientist                        75\n",
       "Research Scientist                    21\n",
       "Machine Learning Engineer             19\n",
       "Research Engineer                     15\n",
       "Data Integration Specialist            8\n",
       "AI Scientist                           6\n",
       "BI Data Analyst                        6\n",
       "Applied Scientist                      6\n",
       "Data Science Consultant                6\n",
       "Analytics Engineer                     5\n",
       "AI Developer                           5\n",
       "Machine Learning Developer             5\n",
       "Business Data Analyst                  4\n",
       "Applied Data Scientist                 4\n",
       "Research Analyst                       4\n",
       "AI Programmer                          4\n",
       "Big Data Engineer                      3\n",
       "Computer Vision Engineer               3\n",
       "Machine Learning Scientist             3\n",
       "ML Engineer                            2\n",
       "Cloud Data Engineer                    2\n",
       "Computer Vision Software Engineer      2\n",
       "Applied Machine Learning Scientist     2\n",
       "BI Developer                           2\n",
       "AI Research Engineer                   2\n",
       "Compliance Data Analyst                2\n",
       "Deep Learning Engineer                 2\n",
       "Data Manager                           2\n",
       "Machine Learning Research Engineer     2\n",
       "Finance Data Analyst                   1\n",
       "Product Data Analyst                   1\n",
       "Data Analytics Engineer                1\n",
       "Data Specialist                        1\n",
       "BI Analyst                             1\n",
       "Marketing Data Engineer                1\n",
       "Azure Data Engineer                    1\n",
       "AI Engineer                            1\n",
       "BI Data Engineer                       1\n",
       "Data Quality Engineer                  1\n",
       "Data Science Engineer                  1\n",
       "Business Intelligence Data Analyst     1\n",
       "Financial Data Analyst                 1\n",
       "Name: count, dtype: int64"
      ]
     },
     "execution_count": 2,
     "metadata": {},
     "output_type": "execute_result"
    }
   ],
   "source": [
    "experience_entry_df = salary_df.loc[(salary_df[\"experience_level\"]==\"EN\")]\n",
    "experience_entry_df[\"job_title\"].value_counts()"
   ]
  },
  {
   "cell_type": "code",
   "execution_count": 3,
   "id": "f97c8516",
   "metadata": {},
   "outputs": [
    {
     "data": {
      "text/plain": [
       "job_title\n",
       "Data Engineer                     1873\n",
       "Data Scientist                    1675\n",
       "Data Analyst                      1179\n",
       "Machine Learning Engineer          801\n",
       "Applied Scientist                  226\n",
       "Research Scientist                 217\n",
       "Analytics Engineer                 216\n",
       "Data Architect                     177\n",
       "Research Engineer                  123\n",
       "Data Manager                       122\n",
       "Business Intelligence Engineer      98\n",
       "Data Science Manager                90\n",
       "ML Engineer                         85\n",
       "Machine Learning Scientist          66\n",
       "BI Developer                        42\n",
       "Data Analytics Manager              39\n",
       "Decision Scientist                  36\n",
       "Data Specialist                     36\n",
       "Data Science Consultant             34\n",
       "Business Intelligence Analyst       32\n",
       "Name: count, dtype: int64"
      ]
     },
     "execution_count": 3,
     "metadata": {},
     "output_type": "execute_result"
    }
   ],
   "source": [
    "salary_df[\"job_title\"].value_counts().head(20)\n",
    "\n"
   ]
  },
  {
   "cell_type": "code",
   "execution_count": 4,
   "id": "ddf6413c",
   "metadata": {},
   "outputs": [
    {
     "data": {
      "text/plain": [
       "work_year\n",
       "2023    5964\n",
       "2022    1636\n",
       "2021     208\n",
       "2020      69\n",
       "Name: count, dtype: int64"
      ]
     },
     "execution_count": 4,
     "metadata": {},
     "output_type": "execute_result"
    }
   ],
   "source": [
    "salary_df[\"work_year\"].value_counts()"
   ]
  },
  {
   "cell_type": "code",
   "execution_count": 5,
   "id": "4bf1bacd",
   "metadata": {},
   "outputs": [],
   "source": [
    "#separate by year\n",
    "salary_df_2020 = salary_df.loc[(salary_df[\"work_year\"]==2020)]\n",
    "salary_df_2021 = salary_df.loc[(salary_df[\"work_year\"]==2021)]\n",
    "salary_df_2022 = salary_df.loc[(salary_df[\"work_year\"]==2022)]\n",
    "salary_df_2023 = salary_df.loc[(salary_df[\"work_year\"]==2023)]"
   ]
  },
  {
   "cell_type": "code",
   "execution_count": 6,
   "id": "89f692d4",
   "metadata": {},
   "outputs": [
    {
     "name": "stdout",
     "output_type": "stream",
     "text": [
      "383113.17391304346\n",
      "579841.1586538461\n",
      "167129.77383863082\n",
      "163339.29828973842\n"
     ]
    }
   ],
   "source": [
    "#find total average salary in the field for each year\n",
    "average_salary_2020 = salary_df_2020[\"salary\"].mean()\n",
    "average_salary_2021 = salary_df_2021[\"salary\"].mean()\n",
    "average_salary_2022 = salary_df_2022[\"salary\"].mean()\n",
    "average_salary_2023 = salary_df_2023[\"salary\"].mean()\n",
    "\n",
    "print(average_salary_2020)\n",
    "print(average_salary_2021)\n",
    "print(average_salary_2022)\n",
    "print(average_salary_2023)"
   ]
  },
  {
   "cell_type": "code",
   "execution_count": 7,
   "id": "100293e2",
   "metadata": {},
   "outputs": [
    {
     "name": "stdout",
     "output_type": "stream",
     "text": [
      "salary    347423.529412\n",
      "dtype: float64\n",
      "salary    302394.181818\n",
      "dtype: float64\n",
      "salary    222893.794393\n",
      "dtype: float64\n",
      "salary    132983.107438\n",
      "dtype: float64\n"
     ]
    }
   ],
   "source": [
    "#Find mean by level of position for each year\n",
    "average_entry_2020 = salary_df_2020.loc[salary_df_2020[\"experience_level\"]==\"EN\",[\"salary\"]].mean()\n",
    "average_entry_2021 = salary_df_2021.loc[salary_df_2021[\"experience_level\"]==\"EN\",[\"salary\"]].mean()\n",
    "average_entry_2022 = salary_df_2022.loc[salary_df_2022[\"experience_level\"]==\"EN\",[\"salary\"]].mean()\n",
    "average_entry_2023 = salary_df_2023.loc[salary_df_2023[\"experience_level\"]==\"EN\",[\"salary\"]].mean()\n",
    "\n",
    "print(average_entry_2020)\n",
    "print(average_entry_2021)\n",
    "print(average_entry_2022)\n",
    "print(average_entry_2023)"
   ]
  },
  {
   "cell_type": "code",
   "execution_count": 9,
   "id": "bc90ad2c",
   "metadata": {},
   "outputs": [
    {
     "name": "stdout",
     "output_type": "stream",
     "text": [
      "salary    58500.0\n",
      "dtype: float64\n",
      "salary    471638.384615\n",
      "dtype: float64\n",
      "salary    780915.5\n",
      "dtype: float64\n",
      "salary    144500.0\n",
      "dtype: float64\n"
     ]
    }
   ],
   "source": [
    "#Finding mean by job title by year. Narrowing down to the most popular job titles, \n",
    "#which are Data Analyst, Data Engineer, Data Scientist, and Machine Learning Engineer\n",
    "#Start with 2020\n",
    "average_salary_2020_DA = salary_df_2020.loc[salary_df_2020[\"job_title\"]==\"Data Analyst\",[\"salary\"]].mean()\n",
    "average_salary_2020_DE = salary_df_2020.loc[salary_df_2020[\"job_title\"]==\"Data Engineer\",[\"salary\"]].mean()\n",
    "average_salary_2020_DS = salary_df_2020.loc[salary_df_2020[\"job_title\"]==\"Data Scientist\",[\"salary\"]].mean()\n",
    "average_salary_2020_MLE = salary_df_2020.loc[salary_df_2020[\"job_title\"]==\"Machine Learning Engineer\",[\"salary\"]].mean()\n",
    "\n",
    "print(average_salary_2020_DA)\n",
    "print(average_salary_2020_DE)\n",
    "print(average_salary_2020_DS)\n",
    "print(average_salary_2020_MLE)"
   ]
  },
  {
   "cell_type": "code",
   "execution_count": 10,
   "id": "1300884f",
   "metadata": {},
   "outputs": [
    {
     "name": "stdout",
     "output_type": "stream",
     "text": [
      "salary    139872.8\n",
      "dtype: float64\n",
      "salary    212195.0\n",
      "dtype: float64\n",
      "salary    1138821.0\n",
      "dtype: float64\n",
      "salary    445668.944444\n",
      "dtype: float64\n"
     ]
    }
   ],
   "source": [
    "#2021 by title\n",
    "average_salary_2021_DA = salary_df_2021.loc[salary_df_2021[\"job_title\"]==\"Data Analyst\",[\"salary\"]].mean()\n",
    "average_salary_2021_DE = salary_df_2021.loc[salary_df_2021[\"job_title\"]==\"Data Engineer\",[\"salary\"]].mean()\n",
    "average_salary_2021_DS = salary_df_2021.loc[salary_df_2021[\"job_title\"]==\"Data Scientist\",[\"salary\"]].mean()\n",
    "average_salary_2021_MLE = salary_df_2021.loc[salary_df_2021[\"job_title\"]==\"Machine Learning Engineer\",[\"salary\"]].mean()\n",
    "\n",
    "print(average_salary_2021_DA)\n",
    "print(average_salary_2021_DE)\n",
    "print(average_salary_2021_DS)\n",
    "print(average_salary_2021_MLE)"
   ]
  },
  {
   "cell_type": "code",
   "execution_count": 11,
   "id": "efc8c8e2",
   "metadata": {},
   "outputs": [
    {
     "name": "stdout",
     "output_type": "stream",
     "text": [
      "salary    108559.320896\n",
      "dtype: float64\n",
      "salary    144091.868583\n",
      "dtype: float64\n",
      "salary    183522.65586\n",
      "dtype: float64\n",
      "salary    165218.11215\n",
      "dtype: float64\n"
     ]
    }
   ],
   "source": [
    "#2022 by title\n",
    "average_salary_2022_DA = salary_df_2022.loc[salary_df_2022[\"job_title\"]==\"Data Analyst\",[\"salary\"]].mean()\n",
    "average_salary_2022_DE = salary_df_2022.loc[salary_df_2022[\"job_title\"]==\"Data Engineer\",[\"salary\"]].mean()\n",
    "average_salary_2022_DS = salary_df_2022.loc[salary_df_2022[\"job_title\"]==\"Data Scientist\",[\"salary\"]].mean()\n",
    "average_salary_2022_MLE = salary_df_2022.loc[salary_df_2022[\"job_title\"]==\"Machine Learning Engineer\",[\"salary\"]].mean()\n",
    "\n",
    "print(average_salary_2022_DA)\n",
    "print(average_salary_2022_DE)\n",
    "print(average_salary_2022_DS)\n",
    "print(average_salary_2022_MLE)"
   ]
  },
  {
   "cell_type": "code",
   "execution_count": 12,
   "id": "50ad9b89",
   "metadata": {},
   "outputs": [
    {
     "name": "stdout",
     "output_type": "stream",
     "text": [
      "salary    115220.681356\n",
      "dtype: float64\n",
      "salary    151765.509716\n",
      "dtype: float64\n",
      "salary    169398.857496\n",
      "dtype: float64\n",
      "salary    191471.331845\n",
      "dtype: float64\n"
     ]
    }
   ],
   "source": [
    "#2023 by title\n",
    "average_salary_2023_DA = salary_df_2023.loc[salary_df_2023[\"job_title\"]==\"Data Analyst\",[\"salary\"]].mean()\n",
    "average_salary_2023_DE = salary_df_2023.loc[salary_df_2023[\"job_title\"]==\"Data Engineer\",[\"salary\"]].mean()\n",
    "average_salary_2023_DS = salary_df_2023.loc[salary_df_2023[\"job_title\"]==\"Data Scientist\",[\"salary\"]].mean()\n",
    "average_salary_2023_MLE = salary_df_2023.loc[salary_df_2023[\"job_title\"]==\"Machine Learning Engineer\",[\"salary\"]].mean()\n",
    "\n",
    "print(average_salary_2023_DA)\n",
    "print(average_salary_2023_DE)\n",
    "print(average_salary_2023_DS)\n",
    "print(average_salary_2023_MLE)"
   ]
  },
  {
   "cell_type": "code",
   "execution_count": null,
   "id": "bb394f9f",
   "metadata": {},
   "outputs": [],
   "source": [
    "#Create dataframe for "
   ]
  }
 ],
 "metadata": {
  "kernelspec": {
   "display_name": "Python 3 (ipykernel)",
   "language": "python",
   "name": "python3"
  },
  "language_info": {
   "codemirror_mode": {
    "name": "ipython",
    "version": 3
   },
   "file_extension": ".py",
   "mimetype": "text/x-python",
   "name": "python",
   "nbconvert_exporter": "python",
   "pygments_lexer": "ipython3",
   "version": "3.11.3"
  }
 },
 "nbformat": 4,
 "nbformat_minor": 5
}
