{
 "cells": [
  {
   "cell_type": "code",
   "execution_count": null,
   "id": "655f187a",
   "metadata": {},
   "outputs": [],
   "source": [
    "import matplotlib.pyplot as plt\n",
    "from matplotlib.pyplot import figure\n",
    "import pandas as pd\n",
    "from pathlib import Path\n",
    "import numpy as np\n",
    "import seaborn as sns"
   ]
  },
  {
   "cell_type": "code",
   "execution_count": null,
   "id": "032b93f3",
   "metadata": {},
   "outputs": [],
   "source": [
    "# add csv file\n",
    "data_salaries_cleaned_csv = Path(\"../Resources/data_salaries_cleaned.csv\")"
   ]
  },
  {
   "cell_type": "code",
   "execution_count": null,
   "id": "f5bc5f4e",
   "metadata": {},
   "outputs": [],
   "source": [
    "# read csv\n",
    "data_salaries_cleaned = pd.read_csv(data_salaries_cleaned_csv)"
   ]
  },
  {
   "cell_type": "code",
   "execution_count": null,
   "id": "361287c0",
   "metadata": {},
   "outputs": [],
   "source": [
    "# filter by job title\n",
    "data_engineers = data_salaries_cleaned.loc[(data_salaries_cleaned[\"job_title\"]==\"Data Engineer\")]\n",
    "data_scientists = data_salaries_cleaned.loc[(data_salaries_cleaned[\"job_title\"]==\"Data Scientist\")]\n",
    "data_analysts = data_salaries_cleaned.loc[(data_salaries_cleaned[\"job_title\"]==\"Data Analyst\")]\n",
    "machine_learning_engineers = data_salaries_cleaned.loc[(data_salaries_cleaned[\"job_title\"]==\"Machine Learning Engineer\")]"
   ]
  },
  {
   "cell_type": "code",
   "execution_count": null,
   "id": "a248915c",
   "metadata": {},
   "outputs": [],
   "source": [
    "# create function to filter out outliers\n",
    "def filter_outliers(job_title):\n",
    "    quartiles = job_title[\"salary\"].quantile([.25,.75])\n",
    "    lowerq = quartiles[0.25]\n",
    "    upperq = quartiles[0.75]\n",
    "    iqr = upperq-lowerq\n",
    "\n",
    "    lower_bound = lowerq - (1.5*iqr)\n",
    "    upper_bound = upperq + (1.5*iqr)\n",
    "\n",
    "    job_title = job_title.loc[(job_title[\"salary\"]>lower_bound) & (job_title[\"salary\"]<upper_bound)]\n",
    "    return job_title"
   ]
  },
  {
   "cell_type": "code",
   "execution_count": null,
   "id": "f6ef7d78",
   "metadata": {},
   "outputs": [],
   "source": [
    "# run function for each dataset\n",
    "data_analysts = filter_outliers(data_analysts)\n",
    "data_scientists = filter_outliers(data_scientists)\n",
    "data_engineers = filter_outliers(data_engineers)\n",
    "machine_learning_engineers = filter_outliers(machine_learning_engineers)"
   ]
  },
  {
   "cell_type": "code",
   "execution_count": null,
   "id": "8de734fb",
   "metadata": {},
   "outputs": [],
   "source": [
    "data_top_4 = data_salaries_cleaned.loc[(data_salaries_cleaned[\"job_title\"]==\"Data Analyst\")|\n",
    "                                       (data_salaries_cleaned[\"job_title\"]==\"Data Scientist\")|\n",
    "                                      (data_salaries_cleaned[\"job_title\"]==\"Data Engineer\")|\n",
    "                                      (data_salaries_cleaned[\"job_title\"]==\"Data Analyst\")]\n",
    "data_top_4 = filter_outliers(data_top_4)\n",
    "data_top_4"
   ]
  },
  {
   "cell_type": "code",
   "execution_count": null,
   "id": "3b649128",
   "metadata": {},
   "outputs": [],
   "source": [
    "sns.stripplot(x=\"experience_level\", y=\"salary\", data=data_top_4, order=[\"EN\", \"MI\", \"SE\", \"EX\"], color=\"skyblue\")\n",
    "plt.title(\"Range of Salary by Experience Level\")\n",
    "plt.xlabel(\"Experience Level\")\n",
    "plt.ylabel(\"Salary ($)\")\n",
    "plt.savefig(\"Output/fig1.png\")"
   ]
  },
  {
   "cell_type": "code",
   "execution_count": null,
   "id": "a281f4c5",
   "metadata": {},
   "outputs": [],
   "source": [
    "palette=[\"skyblue\", \"orange\", \"mediumseagreen\", \"purple\"]\n",
    "sns.boxplot(x=\"experience_level\", y=\"salary\", data=data_top_4, order=[\"EN\", \"MI\", \"SE\", \"EX\"], palette=palette)\n",
    "plt.title(\"Distribution of Salary by Experience Level\")\n",
    "plt.xlabel(\"Experience Level\")\n",
    "plt.ylabel(\"Salary ($)\")\n",
    "plt.savefig(\"Output/fig2.png\")"
   ]
  },
  {
   "cell_type": "code",
   "execution_count": null,
   "id": "29f52c58",
   "metadata": {},
   "outputs": [],
   "source": [
    "# get salary range for each job title by experience level\n",
    "data_analyst_salary_min = data_analysts.groupby([\"experience_level\"])[\"salary\"].min()\n",
    "data_analyst_salary_max = data_analysts.groupby([\"experience_level\"])[\"salary\"].max()\n",
    "data_scientist_salary_min = data_scientists.groupby([\"experience_level\"])[\"salary\"].min()\n",
    "data_scientist_salary_max = data_scientists.groupby([\"experience_level\"])[\"salary\"].max()\n",
    "data_engineer_salary_min = data_engineers.groupby([\"experience_level\"])[\"salary\"].min()\n",
    "data_engineer_salary_max = data_engineers.groupby([\"experience_level\"])[\"salary\"].max()\n",
    "machine_learning_engineer_salary_min = machine_learning_engineers.groupby([\"experience_level\"])[\"salary\"].min()\n",
    "machine_learning_engineer_salary_max = machine_learning_engineers.groupby([\"experience_level\"])[\"salary\"].max()\n",
    "\n",
    "salary_ranges = pd.DataFrame({\"Data Analyst minimum\": data_analyst_salary_min,\n",
    "                             \"Data Analyst maximum\": data_analyst_salary_max,\n",
    "                             \"Data Scientist minimum\": data_scientist_salary_min,\n",
    "                             \"Data Scientist maximum\": data_scientist_salary_max,\n",
    "                             \"Data Engineer minimum\": data_engineer_salary_min,\n",
    "                             \"Data Engineer maximum\": data_engineer_salary_max,\n",
    "                             \"ML Engineer minimum\": machine_learning_engineer_salary_min,\n",
    "                             \"ML Engineer maximum\": machine_learning_engineer_salary_max})\n",
    "salary_ranges = salary_ranges.reindex([\"EN\", \"MI\", \"SE\", \"EX\"])\n",
    "salary_ranges"
   ]
  },
  {
   "cell_type": "code",
   "execution_count": null,
   "id": "57a23a79",
   "metadata": {},
   "outputs": [],
   "source": [
    "# get average for each experience level in each job title\n",
    "avg_data_engineer_salaries = data_engineers.groupby([\"experience_level\"])[\"salary\"].mean()\n",
    "avg_data_scientist_salaries = data_scientists.groupby([\"experience_level\"])[\"salary\"].mean()\n",
    "avg_data_analyst_salaries = data_analysts.groupby([\"experience_level\"])[\"salary\"].mean()\n",
    "avg_machine_learning_engineer_salaries = machine_learning_engineers.groupby([\"experience_level\"])[\"salary\"].mean()"
   ]
  },
  {
   "cell_type": "code",
   "execution_count": null,
   "id": "ec0a69af",
   "metadata": {},
   "outputs": [],
   "source": [
    "avg_salaries_by_experience_level = pd.DataFrame({\"Data Analyst\": avg_data_analyst_salaries,\n",
    "                                            \"Data Scientist\": avg_data_scientist_salaries,\n",
    "                                            \"Data Engineer\": avg_data_engineer_salaries,\n",
    "                                            \"ML Engineer\": avg_machine_learning_engineer_salaries})\n",
    "\n",
    "avg_salaries_by_experience_level = avg_salaries_by_experience_level.reindex([\"EN\", \"MI\", \"SE\", \"EX\"])\n",
    "avg_salaries_by_experience_level"
   ]
  },
  {
   "cell_type": "code",
   "execution_count": null,
   "id": "a172159b",
   "metadata": {},
   "outputs": [],
   "source": [
    "def plot_avg_salaries(job_title):\n",
    "    avg_salaries_by_experience_level[job_title].plot(kind=\"bar\", title=f\"Average Salary by Experience Level: {job_title}\",\n",
    "                                                     ylabel=\"Average Salary ($)\", xlabel=\"Experience Level\", color=\"skyblue\")\n",
    "    plt.tight_layout()\n",
    "    plt.savefig(f\"Output/{job_title}_avg_salary.png\")\n",
    "    plt.show()"
   ]
  },
  {
   "cell_type": "code",
   "execution_count": null,
   "id": "4b593fd8",
   "metadata": {},
   "outputs": [],
   "source": [
    "plot_avg_salaries(\"Data Analyst\")"
   ]
  },
  {
   "cell_type": "code",
   "execution_count": null,
   "id": "9a9d31da",
   "metadata": {},
   "outputs": [],
   "source": [
    "# get value counts for data analyst experience levels to show reason for discrepancy\n",
    "data_analysts[\"experience_level\"].value_counts()"
   ]
  },
  {
   "cell_type": "code",
   "execution_count": null,
   "id": "def1ce97",
   "metadata": {},
   "outputs": [],
   "source": [
    "# get value counts for MLE experience levels to show reason for discrepancy\n",
    "machine_learning_engineers[\"experience_level\"].value_counts()"
   ]
  },
  {
   "cell_type": "code",
   "execution_count": null,
   "id": "3ed32f44",
   "metadata": {},
   "outputs": [],
   "source": [
    "colors=[\"skyblue\", \"orange\", \"mediumseagreen\", \"purple\"]\n",
    "avg_salaries_by_experience_level.plot(kind=\"bar\", title=\"Average Salary by Experience Level\", \n",
    "                                      ylabel=\"Average Salary ($)\", xlabel=\"Experience Level\", figsize=(9,6), color=colors)\n",
    "plt.savefig(\"Output/fig6.png\")\n",
    "plt.show()"
   ]
  },
  {
   "cell_type": "code",
   "execution_count": null,
   "id": "0bc10f00",
   "metadata": {},
   "outputs": [],
   "source": [
    "for col in avg_salaries_by_experience_level.columns:\n",
    "    name = f\"{str(col)} Salary Increase\"\n",
    "    avg_salaries_by_experience_level[name] = avg_salaries_by_experience_level[col].diff()"
   ]
  },
  {
   "cell_type": "code",
   "execution_count": null,
   "id": "f1dd8b2a",
   "metadata": {},
   "outputs": [],
   "source": [
    "avg_salaries_by_experience_level"
   ]
  },
  {
   "cell_type": "code",
   "execution_count": null,
   "id": "57ec6d17",
   "metadata": {},
   "outputs": [],
   "source": [
    "avg_salary_increase_DA = avg_salaries_by_experience_level[\"Data Analyst Salary Increase\"].mean()\n",
    "avg_salary_increase_DS = avg_salaries_by_experience_level[\"Data Scientist Salary Increase\"].mean()\n",
    "avg_salary_increase_DE = avg_salaries_by_experience_level[\"Data Engineer Salary Increase\"].mean()\n",
    "avg_salary_increase_MLE = avg_salaries_by_experience_level[\"ML Engineer Salary Increase\"].mean()\n",
    "\n",
    "avg_salary_increases = pd.DataFrame({\"Data Analyst\": [avg_salary_increase_DA],\n",
    "                                        \"Data Scientist\": [avg_salary_increase_DS],\n",
    "                                        \"Data Engineer\": [avg_salary_increase_DE],\n",
    "                                        \"ML Engineer\": [avg_salary_increase_MLE]}).T\n",
    "avg_salary_increases.plot(kind=\"bar\", title=\"Average Salary Increase by Job Title\", legend=False,figsize=(9,6), \n",
    "                          color=\"skyblue\", rot=0)\n",
    "plt.ylabel(\"Average Salary Increase ($)\")\n",
    "plt.savefig(\"Output/fig7.png\")\n",
    "plt.show()"
   ]
  },
  {
   "cell_type": "code",
   "execution_count": null,
   "id": "52dbc915",
   "metadata": {},
   "outputs": [],
   "source": [
    "# print average salary increases for output\n",
    "avg_salary_increase_DA = round(avg_salaries_by_experience_level[\"Data Analyst Salary Increase\"].mean(),2)\n",
    "avg_salary_increase_DS = round(avg_salaries_by_experience_level[\"Data Scientist Salary Increase\"].mean(),2)\n",
    "avg_salary_increase_DE = round(avg_salaries_by_experience_level[\"Data Engineer Salary Increase\"].mean(),2)\n",
    "avg_salary_increase_MLE = round(avg_salaries_by_experience_level[\"ML Engineer Salary Increase\"].mean(),2)\n",
    "\n",
    "print(f\"Data Analysts show an average salary increase of ${avg_salary_increase_DA}.\")\n",
    "print(f\"Data Scientists show an average salary increase of ${avg_salary_increase_DS}.\")\n",
    "print(f\"Data Engineers show an average salary increase of ${avg_salary_increase_DE}.\")\n",
    "print(f\"Machine Learning Engineers show an average salary increase of ${avg_salary_increase_MLE}.\")"
   ]
  },
  {
   "cell_type": "code",
   "execution_count": null,
   "id": "0a1ead15",
   "metadata": {},
   "outputs": [],
   "source": [
    "# format salary ranges df for output\n",
    "salary_ranges[\"Data Analyst minimum\"] = salary_ranges[\"Data Analyst minimum\"].map(\"${:}\".format)\n",
    "salary_ranges[\"Data Analyst maximum\"] = salary_ranges[\"Data Analyst maximum\"].map(\"${:}\".format)\n",
    "salary_ranges[\"Data Scientist minimum\"] = salary_ranges[\"Data Scientist minimum\"].map(\"${:}\".format)\n",
    "salary_ranges[\"Data Scientist maximum\"] = salary_ranges[\"Data Scientist maximum\"].map(\"${:}\".format)\n",
    "salary_ranges[\"Data Engineer minimum\"] = salary_ranges[\"Data Engineer minimum\"].map(\"${:}\".format)\n",
    "salary_ranges[\"Data Engineer maximum\"] = salary_ranges[\"Data Engineer maximum\"].map(\"${:}\".format)\n",
    "salary_ranges[\"ML Engineer minimum\"] = salary_ranges[\"ML Engineer minimum\"].map(\"${:}\".format)\n",
    "salary_ranges[\"ML Engineer maximum\"] = salary_ranges[\"ML Engineer maximum\"].map(\"${:}\".format)\n",
    "salary_ranges"
   ]
  },
  {
   "cell_type": "code",
   "execution_count": null,
   "id": "97894294",
   "metadata": {},
   "outputs": [],
   "source": [
    "# format avg salaries df for output\n",
    "avg_salaries_by_experience_level[\"Data Analyst\"] = avg_salaries_by_experience_level[\"Data Analyst\"].map(\"${:,.2f}\".format)\n",
    "avg_salaries_by_experience_level[\"Data Scientist\"] = avg_salaries_by_experience_level[\"Data Scientist\"].map(\"${:,.2f}\".format)\n",
    "avg_salaries_by_experience_level[\"Data Engineer\"] = avg_salaries_by_experience_level[\"Data Engineer\"].map(\"${:,.2f}\".format)\n",
    "avg_salaries_by_experience_level[\"ML Engineer\"] = avg_salaries_by_experience_level[\"ML Engineer\"].map(\"${:,.2f}\".format)\n",
    "avg_salaries_by_experience_level[\"Data Analyst Salary Increase\"] = avg_salaries_by_experience_level[\"Data Analyst Salary Increase\"].map(\"${:,.2f}\".format)\n",
    "avg_salaries_by_experience_level[\"Data Scientist Salary Increase\"] = avg_salaries_by_experience_level[\"Data Scientist Salary Increase\"].map(\"${:,.2f}\".format)\n",
    "avg_salaries_by_experience_level[\"Data Engineer Salary Increase\"] = avg_salaries_by_experience_level[\"Data Engineer Salary Increase\"].map(\"${:,.2f}\".format)\n",
    "avg_salaries_by_experience_level[\"ML Engineer Salary Increase\"] = avg_salaries_by_experience_level[\"ML Engineer Salary Increase\"].map(\"${:,.2f}\".format)\n",
    "avg_salaries_by_experience_level"
   ]
  }
 ],
 "metadata": {
  "kernelspec": {
   "display_name": "Python 3 (ipykernel)",
   "language": "python",
   "name": "python3"
  },
  "language_info": {
   "codemirror_mode": {
    "name": "ipython",
    "version": 3
   },
   "file_extension": ".py",
   "mimetype": "text/x-python",
   "name": "python",
   "nbconvert_exporter": "python",
   "pygments_lexer": "ipython3",
   "version": "3.11.4"
  }
 },
 "nbformat": 4,
 "nbformat_minor": 5
}
