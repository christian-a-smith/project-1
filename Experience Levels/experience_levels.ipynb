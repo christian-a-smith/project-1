{
 "cells": [
  {
   "cell_type": "code",
   "execution_count": 1,
   "id": "08944461",
   "metadata": {},
   "outputs": [],
   "source": [
    "import matplotlib.pyplot as plt\n",
    "import pandas as pd\n",
    "import scipy.stats as st\n",
    "import numpy as np\n",
    "from pathlib import Path"
   ]
  },
  {
   "cell_type": "code",
   "execution_count": 2,
   "id": "ce04a64c",
   "metadata": {},
   "outputs": [],
   "source": [
    "# add csv file\n",
    "data_salaries_cleaned_csv = Path(\"../Resources/data_salaries_cleaned.csv\")"
   ]
  },
  {
   "cell_type": "code",
   "execution_count": 17,
   "id": "caa0277e",
   "metadata": {},
   "outputs": [
    {
     "data": {
      "text/plain": [
       "job_title\n",
       "Data Engineer                         1645\n",
       "Data Scientist                        1423\n",
       "Data Analyst                          1026\n",
       "Machine Learning Engineer              697\n",
       "Applied Scientist                      225\n",
       "                                      ... \n",
       "Software Data Engineer                   1\n",
       "Compliance Data Analyst                  1\n",
       "Business Intelligence Data Analyst       1\n",
       "BI Data Engineer                         1\n",
       "Principal Data Analyst                   1\n",
       "Name: count, Length: 96, dtype: int64"
      ]
     },
     "execution_count": 17,
     "metadata": {},
     "output_type": "execute_result"
    }
   ],
   "source": [
    "# read csv\n",
    "data_salaries_cleaned = pd.read_csv(data_salaries_cleaned_csv)\n",
    "data_salaries_cleaned[\"job_title\"].value_counts()"
   ]
  },
  {
   "cell_type": "code",
   "execution_count": 63,
   "id": "f2b19a63",
   "metadata": {},
   "outputs": [
    {
     "data": {
      "text/html": [
       "<div>\n",
       "<style scoped>\n",
       "    .dataframe tbody tr th:only-of-type {\n",
       "        vertical-align: middle;\n",
       "    }\n",
       "\n",
       "    .dataframe tbody tr th {\n",
       "        vertical-align: top;\n",
       "    }\n",
       "\n",
       "    .dataframe thead th {\n",
       "        text-align: right;\n",
       "    }\n",
       "</style>\n",
       "<table border=\"1\" class=\"dataframe\">\n",
       "  <thead>\n",
       "    <tr style=\"text-align: right;\">\n",
       "      <th></th>\n",
       "      <th>work_year</th>\n",
       "      <th>experience_level</th>\n",
       "      <th>employment_type</th>\n",
       "      <th>job_title</th>\n",
       "      <th>salary</th>\n",
       "      <th>remote_ratio</th>\n",
       "      <th>company_size</th>\n",
       "    </tr>\n",
       "  </thead>\n",
       "  <tbody>\n",
       "    <tr>\n",
       "      <th>4</th>\n",
       "      <td>2023</td>\n",
       "      <td>SE</td>\n",
       "      <td>FT</td>\n",
       "      <td>Data Engineer</td>\n",
       "      <td>190000</td>\n",
       "      <td>0</td>\n",
       "      <td>M</td>\n",
       "    </tr>\n",
       "    <tr>\n",
       "      <th>5</th>\n",
       "      <td>2023</td>\n",
       "      <td>SE</td>\n",
       "      <td>FT</td>\n",
       "      <td>Data Engineer</td>\n",
       "      <td>170000</td>\n",
       "      <td>0</td>\n",
       "      <td>M</td>\n",
       "    </tr>\n",
       "    <tr>\n",
       "      <th>8</th>\n",
       "      <td>2023</td>\n",
       "      <td>SE</td>\n",
       "      <td>FT</td>\n",
       "      <td>Data Engineer</td>\n",
       "      <td>130000</td>\n",
       "      <td>100</td>\n",
       "      <td>M</td>\n",
       "    </tr>\n",
       "    <tr>\n",
       "      <th>9</th>\n",
       "      <td>2023</td>\n",
       "      <td>SE</td>\n",
       "      <td>FT</td>\n",
       "      <td>Data Engineer</td>\n",
       "      <td>101570</td>\n",
       "      <td>100</td>\n",
       "      <td>M</td>\n",
       "    </tr>\n",
       "    <tr>\n",
       "      <th>10</th>\n",
       "      <td>2023</td>\n",
       "      <td>MI</td>\n",
       "      <td>FT</td>\n",
       "      <td>Data Engineer</td>\n",
       "      <td>150000</td>\n",
       "      <td>100</td>\n",
       "      <td>M</td>\n",
       "    </tr>\n",
       "    <tr>\n",
       "      <th>...</th>\n",
       "      <td>...</td>\n",
       "      <td>...</td>\n",
       "      <td>...</td>\n",
       "      <td>...</td>\n",
       "      <td>...</td>\n",
       "      <td>...</td>\n",
       "      <td>...</td>\n",
       "    </tr>\n",
       "    <tr>\n",
       "      <th>6707</th>\n",
       "      <td>2021</td>\n",
       "      <td>MI</td>\n",
       "      <td>FT</td>\n",
       "      <td>Data Engineer</td>\n",
       "      <td>93150</td>\n",
       "      <td>0</td>\n",
       "      <td>M</td>\n",
       "    </tr>\n",
       "    <tr>\n",
       "      <th>6716</th>\n",
       "      <td>2021</td>\n",
       "      <td>MI</td>\n",
       "      <td>FT</td>\n",
       "      <td>Data Engineer</td>\n",
       "      <td>22000</td>\n",
       "      <td>0</td>\n",
       "      <td>L</td>\n",
       "    </tr>\n",
       "    <tr>\n",
       "      <th>6728</th>\n",
       "      <td>2021</td>\n",
       "      <td>SE</td>\n",
       "      <td>FT</td>\n",
       "      <td>Data Engineer</td>\n",
       "      <td>165000</td>\n",
       "      <td>0</td>\n",
       "      <td>M</td>\n",
       "    </tr>\n",
       "    <tr>\n",
       "      <th>6730</th>\n",
       "      <td>2020</td>\n",
       "      <td>MI</td>\n",
       "      <td>FT</td>\n",
       "      <td>Data Engineer</td>\n",
       "      <td>110000</td>\n",
       "      <td>100</td>\n",
       "      <td>L</td>\n",
       "    </tr>\n",
       "    <tr>\n",
       "      <th>6742</th>\n",
       "      <td>2020</td>\n",
       "      <td>MI</td>\n",
       "      <td>FT</td>\n",
       "      <td>Data Engineer</td>\n",
       "      <td>130800</td>\n",
       "      <td>100</td>\n",
       "      <td>M</td>\n",
       "    </tr>\n",
       "  </tbody>\n",
       "</table>\n",
       "<p>1645 rows × 7 columns</p>\n",
       "</div>"
      ],
      "text/plain": [
       "      work_year experience_level employment_type      job_title  salary  \\\n",
       "4          2023               SE              FT  Data Engineer  190000   \n",
       "5          2023               SE              FT  Data Engineer  170000   \n",
       "8          2023               SE              FT  Data Engineer  130000   \n",
       "9          2023               SE              FT  Data Engineer  101570   \n",
       "10         2023               MI              FT  Data Engineer  150000   \n",
       "...         ...              ...             ...            ...     ...   \n",
       "6707       2021               MI              FT  Data Engineer   93150   \n",
       "6716       2021               MI              FT  Data Engineer   22000   \n",
       "6728       2021               SE              FT  Data Engineer  165000   \n",
       "6730       2020               MI              FT  Data Engineer  110000   \n",
       "6742       2020               MI              FT  Data Engineer  130800   \n",
       "\n",
       "      remote_ratio company_size  \n",
       "4                0            M  \n",
       "5                0            M  \n",
       "8              100            M  \n",
       "9              100            M  \n",
       "10             100            M  \n",
       "...            ...          ...  \n",
       "6707             0            M  \n",
       "6716             0            L  \n",
       "6728             0            M  \n",
       "6730           100            L  \n",
       "6742           100            M  \n",
       "\n",
       "[1645 rows x 7 columns]"
      ]
     },
     "execution_count": 63,
     "metadata": {},
     "output_type": "execute_result"
    }
   ],
   "source": [
    "# filter by job title\n",
    "data_engineers = data_salaries_cleaned.loc[(data_salaries_cleaned[\"job_title\"]==\"Data Engineer\")]\n",
    "data_scientists = data_salaries_cleaned.loc[(data_salaries_cleaned[\"job_title\"]==\"Data Scientist\")]\n",
    "data_analysts = data_salaries_cleaned.loc[(data_salaries_cleaned[\"job_title\"]==\"Data Analyst\")]\n",
    "machine_learning_engineers = data_salaries_cleaned.loc[(data_salaries_cleaned[\"job_title\"]==\"Machine Learning Engineer\")]\n",
    "data_engineers"
   ]
  },
  {
   "cell_type": "code",
   "execution_count": 72,
   "id": "98250bd4",
   "metadata": {},
   "outputs": [
    {
     "data": {
      "text/plain": [
       "19850.0"
      ]
     },
     "execution_count": 72,
     "metadata": {},
     "output_type": "execute_result"
    }
   ],
   "source": [
    "# If the data is in a dataframe, we use pandas to give quartile calculations\n",
    "quartiles = data_engineers[\"salary\"].quantile([.25,.75])\n",
    "lowerq = quartiles[0.25]\n",
    "upperq = quartiles[0.75]\n",
    "iqr = upperq-lowerq\n",
    "lower_bound = lowerq - (1.5*iqr)\n",
    "upper_bound = upperq + (1.5*iqr)\n",
    "\n",
    "lower_bound"
   ]
  },
  {
   "cell_type": "code",
   "execution_count": 73,
   "id": "0198a702",
   "metadata": {},
   "outputs": [
    {
     "data": {
      "text/plain": [
       "22000"
      ]
     },
     "execution_count": 73,
     "metadata": {},
     "output_type": "execute_result"
    }
   ],
   "source": [
    "data_engineers[\"salary\"].min()"
   ]
  },
  {
   "cell_type": "code",
   "execution_count": null,
   "id": "d0059687",
   "metadata": {},
   "outputs": [],
   "source": []
  },
  {
   "cell_type": "code",
   "execution_count": 39,
   "id": "7e551e57",
   "metadata": {},
   "outputs": [],
   "source": [
    "# get average for each experience level in each job title\n",
    "data_engineer_salaries = data_engineers.groupby([\"experience_level\"])[\"salary\"].mean()\n",
    "data_scientist_salaries = data_scientists.groupby([\"experience_level\"])[\"salary\"].mean()\n",
    "data_analyst_salaries = data_analysts.groupby([\"experience_level\"])[\"salary\"].mean()\n",
    "machine_learning_engineer_salaries = machine_learning_engineers.groupby([\"experience_level\"])[\"salary\"].mean()"
   ]
  },
  {
   "cell_type": "code",
   "execution_count": 50,
   "id": "127508d2",
   "metadata": {},
   "outputs": [
    {
     "data": {
      "text/html": [
       "<div>\n",
       "<style scoped>\n",
       "    .dataframe tbody tr th:only-of-type {\n",
       "        vertical-align: middle;\n",
       "    }\n",
       "\n",
       "    .dataframe tbody tr th {\n",
       "        vertical-align: top;\n",
       "    }\n",
       "\n",
       "    .dataframe thead th {\n",
       "        text-align: right;\n",
       "    }\n",
       "</style>\n",
       "<table border=\"1\" class=\"dataframe\">\n",
       "  <thead>\n",
       "    <tr style=\"text-align: right;\">\n",
       "      <th></th>\n",
       "      <th>Data Analyst</th>\n",
       "      <th>Data Scientist</th>\n",
       "      <th>Data Engineer</th>\n",
       "      <th>Machine Learning</th>\n",
       "    </tr>\n",
       "    <tr>\n",
       "      <th>experience_level</th>\n",
       "      <th></th>\n",
       "      <th></th>\n",
       "      <th></th>\n",
       "      <th></th>\n",
       "    </tr>\n",
       "  </thead>\n",
       "  <tbody>\n",
       "    <tr>\n",
       "      <th>EN</th>\n",
       "      <td>75685.428571</td>\n",
       "      <td>104584.422222</td>\n",
       "      <td>109101.880597</td>\n",
       "      <td>139916.454545</td>\n",
       "    </tr>\n",
       "    <tr>\n",
       "      <th>MI</th>\n",
       "      <td>105424.676724</td>\n",
       "      <td>150403.233533</td>\n",
       "      <td>129740.720000</td>\n",
       "      <td>168484.183333</td>\n",
       "    </tr>\n",
       "    <tr>\n",
       "      <th>SE</th>\n",
       "      <td>121855.477591</td>\n",
       "      <td>173550.033698</td>\n",
       "      <td>159891.545968</td>\n",
       "      <td>195393.420968</td>\n",
       "    </tr>\n",
       "    <tr>\n",
       "      <th>EX</th>\n",
       "      <td>107000.000000</td>\n",
       "      <td>190420.833333</td>\n",
       "      <td>195691.250000</td>\n",
       "      <td>190950.000000</td>\n",
       "    </tr>\n",
       "  </tbody>\n",
       "</table>\n",
       "</div>"
      ],
      "text/plain": [
       "                   Data Analyst  Data Scientist  Data Engineer  \\\n",
       "experience_level                                                 \n",
       "EN                 75685.428571   104584.422222  109101.880597   \n",
       "MI                105424.676724   150403.233533  129740.720000   \n",
       "SE                121855.477591   173550.033698  159891.545968   \n",
       "EX                107000.000000   190420.833333  195691.250000   \n",
       "\n",
       "                  Machine Learning  \n",
       "experience_level                    \n",
       "EN                   139916.454545  \n",
       "MI                   168484.183333  \n",
       "SE                   195393.420968  \n",
       "EX                   190950.000000  "
      ]
     },
     "execution_count": 50,
     "metadata": {},
     "output_type": "execute_result"
    }
   ],
   "source": [
    "salaries_by_experience_level = pd.DataFrame({\"Data Analyst\": data_analyst_salaries,\n",
    "                                            \"Data Scientist\": data_scientist_salaries,\n",
    "                                            \"Data Engineer\": data_engineer_salaries,\n",
    "                                            \"Machine Learning\": machine_learning_engineer_salaries})\n",
    "\n",
    "# salaries_by_experience_level[\"Data Engineers\"] = salaries_by_experience_level[\"Data Engineers\"].map(\"${:,.2f}\".format)\n",
    "# salaries_by_experience_level[\"Data Scientists\"] = salaries_by_experience_level[\"Data Scientists\"].map(\"${:,.2f}\".format)\n",
    "# salaries_by_experience_level[\"Data Analysts\"] = salaries_by_experience_level[\"Data Analysts\"].map(\"${:,.2f}\".format)\n",
    "# salaries_by_experience_level[\"Machine Learning\"] = salaries_by_experience_level[\"Machine Learning\"].map(\"${:,.2f}\".format)\n",
    "\n",
    "salaries_by_experience_level = salaries_by_experience_level.reindex([\"EN\", \"MI\", \"SE\", \"EX\"])\n",
    "salaries_by_experience_level"
   ]
  },
  {
   "cell_type": "code",
   "execution_count": 51,
   "id": "b52542f9",
   "metadata": {},
   "outputs": [
    {
     "data": {
      "image/png": "[encoded data removed]",
      "text/plain": [
       "<Figure size 640x480 with 1 Axes>"
      ]
     },
     "metadata": {},
     "output_type": "display_data"
    }
   ],
   "source": [
    "salaries_by_experience_level.plot(kind=\"bar\", title=\"Salaries by Experience Level & Job Title\")\n",
    "plt.show()"
   ]
  },
  {
   "cell_type": "code",
   "execution_count": null,
   "id": "de77f4ad",
   "metadata": {},
   "outputs": [],
   "source": []
  }
 ],
 "metadata": {
  "kernelspec": {
   "display_name": "Python 3 (ipykernel)",
   "language": "python",
   "name": "python3"
  },
  "language_info": {
   "codemirror_mode": {
    "name": "ipython",
    "version": 3
   },
   "file_extension": ".py",
   "mimetype": "text/x-python",
   "name": "python",
   "nbconvert_exporter": "python",
   "pygments_lexer": "ipython3",
   "version": "3.11.4"
  }
 },
 "nbformat": 4,
 "nbformat_minor": 5
}
