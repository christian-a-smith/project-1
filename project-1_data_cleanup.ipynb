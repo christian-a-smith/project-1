{
 "cells": [
  {
   "cell_type": "code",
   "execution_count": 1,
   "id": "64bc6e96",
   "metadata": {},
   "outputs": [],
   "source": [
    "import matplotlib.pyplot as plt\n",
    "import pandas as pd\n",
    "import scipy.stats as st\n",
    "import numpy as np\n",
    "from pathlib import Path"
   ]
  },
  {
   "cell_type": "code",
   "execution_count": 2,
   "id": "d9b63feb",
   "metadata": {},
   "outputs": [],
   "source": [
    "# add csv file\n",
    "data_salaries_csv = Path(\"Resources/salaries.csv\")"
   ]
  },
  {
   "cell_type": "code",
   "execution_count": 3,
   "id": "ddc60f31",
   "metadata": {},
   "outputs": [
    {
     "data": {
      "text/plain": [
       "(7919, 11)"
      ]
     },
     "execution_count": 3,
     "metadata": {},
     "output_type": "execute_result"
    }
   ],
   "source": [
    "# read full dataframe\n",
    "data_salaries_df = pd.read_csv(data_salaries_csv)\n",
    "data_salaries_df.shape"
   ]
  },
  {
   "cell_type": "code",
   "execution_count": 4,
   "id": "883d5d47",
   "metadata": {},
   "outputs": [
    {
     "data": {
      "text/plain": [
       "(7919, 11)"
      ]
     },
     "execution_count": 4,
     "metadata": {},
     "output_type": "execute_result"
    }
   ],
   "source": [
    "# drop null values (if any)\n",
    "data_salaries = data_salaries_df.dropna()\n",
    "data_salaries_df.shape"
   ]
  },
  {
   "cell_type": "code",
   "execution_count": 5,
   "id": "023321c4",
   "metadata": {},
   "outputs": [],
   "source": [
    "# filter by employment type (get only full-time)\n",
    "data_salaries_df[\"employment_type\"].value_counts()\n",
    "data_salaries_df = data_salaries_df.loc[(data_salaries_df[\"employment_type\"]==\"FT\")]"
   ]
  },
  {
   "cell_type": "code",
   "execution_count": 8,
   "id": "bbd47ff0",
   "metadata": {},
   "outputs": [],
   "source": [
    "# filter by country (get only US & drop redundant columns)\n",
    "data_salaries_cleaned = data_salaries_df.loc[(data_salaries_df[\"company_location\"]==\"US\")]\n",
    "data_salaries_cleaned = data_salaries_df.drop(columns=[\"salary_currency\", \"salary_in_usd\", \n",
    "                                                  \"employee_residence\", \"company_location\"])\n",
    "data_salaries_cleaned.head()\n",
    "data_salaries_cleaned.to_csv(\"Resources/data_salaries_cleaned.csv\")"
   ]
  },
  {
   "cell_type": "code",
   "execution_count": null,
   "id": "3e18bdd3",
   "metadata": {},
   "outputs": [],
   "source": []
  },
  {
   "cell_type": "code",
   "execution_count": null,
   "id": "d48716e6",
   "metadata": {},
   "outputs": [],
   "source": [
    "# filter by year\n",
    "data_salaries_2023_df = data_salaries_df.loc[(data_salaries_df[\"work_year\"]==2023)]\n",
    "data_salaries_2022_df = data_salaries_df.loc[(data_salaries_df[\"work_year\"]==2022)]\n",
    "data_salaries_2021_df = data_salaries_df.loc[(data_salaries_df[\"work_year\"]==2021)]\n",
    "data_salaries_2020_df = data_salaries_df.loc[(data_salaries_df[\"work_year\"]==2020)]"
   ]
  },
  {
   "cell_type": "code",
   "execution_count": null,
   "id": "fb35df4d",
   "metadata": {},
   "outputs": [],
   "source": [
    "# filter by experience level\n",
    "data_salaries_df[\"experience_level\"].value_counts()\n",
    "data_salaries_en_df = data_salaries_df.loc[(data_salaries_df[\"experience_level\"]==\"EN\")]\n",
    "data_salaries_mi_df = data_salaries_df.loc[(data_salaries_df[\"experience_level\"]==\"MI\")]\n",
    "data_salaries_se_df = data_salaries_df.loc[(data_salaries_df[\"experience_level\"]==\"SE\")]\n",
    "data_salaries_ex_df = data_salaries_df.loc[(data_salaries_df[\"experience_level\"]==\"EX\")]"
   ]
  },
  {
   "cell_type": "code",
   "execution_count": null,
   "id": "d5511d17",
   "metadata": {},
   "outputs": [],
   "source": [
    "# filter by job title\n",
    "data_salaries_df[\"job_title\"].value_counts()\n",
    "data_salaries_da_df = data_salaries_df.loc[(data_salaries_df[\"job_title\"]==\"Data Analyst\")]\n",
    "data_salaries_ds_df = data_salaries_df.loc[(data_salaries_df[\"job_title\"]==\"Data Scientist\")]\n",
    "data_salaries_de_df = data_salaries_df.loc[(data_salaries_df[\"job_title\"]==\"Data Engineer\")]\n",
    "data_salaries_mle_df = data_salaries_df.loc[(data_salaries_df[\"job_title\"]==\"Machine Learning Engineer\")]"
   ]
  },
  {
   "cell_type": "code",
   "execution_count": null,
   "id": "eefe652f",
   "metadata": {},
   "outputs": [],
   "source": [
    "# filter to get only entry level data analysts\n",
    "data_salaries_da_en_df = data_salaries_da_df.loc[(data_salaries_da_df[\"experience_level\"]==\"EN\")]\n",
    "data_salaries_da_en_df"
   ]
  },
  {
   "cell_type": "code",
   "execution_count": null,
   "id": "6b031622",
   "metadata": {},
   "outputs": [],
   "source": [
    "# find average entry level data analyst salary\n",
    "data_salaries_da_en_df[\"salary\"].max()\n",
    "# round(data_salaries_da_en_df[\"salary\"].mean(),2)"
   ]
  },
  {
   "cell_type": "code",
   "execution_count": null,
   "id": "c47f8355",
   "metadata": {},
   "outputs": [],
   "source": [
    "# find average entry level data analyst salary by company_size\n",
    "data_salaries_da_en_df.groupby([\"company_size\"])[\"salary\"].mean()"
   ]
  },
  {
   "cell_type": "code",
   "execution_count": null,
   "id": "bbd97ebb",
   "metadata": {},
   "outputs": [],
   "source": [
    "# filter by remote_ratio\n",
    "data_salaries_df[\"remote_ratio\"].value_counts()"
   ]
  }
 ],
 "metadata": {
  "kernelspec": {
   "display_name": "Python 3 (ipykernel)",
   "language": "python",
   "name": "python3"
  },
  "language_info": {
   "codemirror_mode": {
    "name": "ipython",
    "version": 3
   },
   "file_extension": ".py",
   "mimetype": "text/x-python",
   "name": "python",
   "nbconvert_exporter": "python",
   "pygments_lexer": "ipython3",
   "version": "3.11.4"
  }
 },
 "nbformat": 4,
 "nbformat_minor": 5
}
